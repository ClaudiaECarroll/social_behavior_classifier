{
 "cells": [
  {
   "cell_type": "markdown",
   "metadata": {
    "id": "vTf4ZtL9X9HW"
   },
   "source": [
    "First, get gutenberg text from 'Plain Text UTF-8' and then save the text to TXT files. let's cut off garbage lines later"
   ]
  },
  {
   "cell_type": "code",
   "execution_count": null,
   "metadata": {
    "id": "4gY5lmbaX3MD"
   },
   "outputs": [],
   "source": [
    "import pandas as pd\n",
    "file_path = '/content/drive/MyDrive/hdw_annotation/corpus_metadata_7_1.xlsx'\n",
    "df = pd.read_excel(file_path)"
   ]
  },
  {
   "cell_type": "code",
   "execution_count": null,
   "metadata": {
    "id": "ATtYXJNrX3RN"
   },
   "outputs": [],
   "source": [
    "def modify_url(url):\n",
    "  if pd.isna(url) or not url.strip():\n",
    "    return None\n",
    "  return url.replace('-images.html', '.txt')"
   ]
  },
  {
   "cell_type": "code",
   "execution_count": null,
   "metadata": {
    "id": "keSLQaAQX3dm"
   },
   "outputs": [],
   "source": [
    "df['new_gutenberg_url'] = df['gutenberg_url'].apply(modify_url)"
   ]
  },
  {
   "cell_type": "code",
   "execution_count": null,
   "metadata": {
    "colab": {
     "base_uri": "https://localhost:8080/",
     "height": 36
    },
    "id": "aq0bcZjVbg3p",
    "outputId": "eb406d9c-16ae-4048-eb85-384473edf531"
   },
   "outputs": [
    {
     "data": {
      "application/vnd.google.colaboratory.intrinsic+json": {
       "type": "string"
      },
      "text/plain": [
       "'https://www.gutenberg.org/cache/epub/36481/pg36481.txt'"
      ]
     },
     "execution_count": 9,
     "metadata": {},
     "output_type": "execute_result"
    }
   ],
   "source": [
    "df['new_gutenberg_url'][0]"
   ]
  },
  {
   "cell_type": "code",
   "execution_count": null,
   "metadata": {
    "id": "kYPaaxe8bg-W"
   },
   "outputs": [],
   "source": [
    "df.to_csv('/content/drive/MyDrive/hdw_annotation/new_gutenberg_url.csv',encoding='utf-8', index=False)"
   ]
  },
  {
   "cell_type": "code",
   "execution_count": null,
   "metadata": {
    "colab": {
     "base_uri": "https://localhost:8080/"
    },
    "id": "9NVeE5aWbhCy",
    "outputId": "b6530dff-3790-46d4-a9bc-5d55586c54f2"
   },
   "outputs": [
    {
     "name": "stdout",
     "output_type": "stream",
     "text": [
      "Failed to fetch https://www.gutenberg.org/cache/epub/35786pg-35786images.html: Status code 404\n",
      "Failed to fetch https://www.gutenberg.org/cache/epub/2505/pgv.txt: Status code 404\n"
     ]
    },
    {
     "data": {
      "text/plain": [
       "0      None\n",
       "1      None\n",
       "2      None\n",
       "3      None\n",
       "4      None\n",
       "       ... \n",
       "647    None\n",
       "648    None\n",
       "649    None\n",
       "650    None\n",
       "651    None\n",
       "Length: 652, dtype: object"
      ]
     },
     "execution_count": 11,
     "metadata": {},
     "output_type": "execute_result"
    }
   ],
   "source": [
    "#this code takes time\n",
    "import os\n",
    "import requests\n",
    "from bs4 import BeautifulSoup\n",
    "\n",
    "output_dir = '/content/drive/MyDrive/hdw_annotation/raw_files'\n",
    "os.makedirs(output_dir, exist_ok=True)\n",
    "\n",
    "def fetch_and_save_text(row):\n",
    "    url = row['new_gutenberg_url']\n",
    "    filename = row['filename']\n",
    "\n",
    "    if pd.isna(url) or not url.strip():\n",
    "        return\n",
    "\n",
    "    try:\n",
    "        response = requests.get(url)\n",
    "        if response.status_code == 200:\n",
    "            soup = BeautifulSoup(response.content, 'html.parser')\n",
    "            body_text = soup.get_text()\n",
    "            #save the body of each text as follows\n",
    "            file_path = os.path.join(output_dir, f\"{filename}.txt\")\n",
    "            with open(file_path, 'w', encoding='utf-8') as file:\n",
    "                file.write(body_text)\n",
    "        else:\n",
    "            print(f\"Failed to fetch {url}: Status code {response.status_code}\")\n",
    "    except Exception as e:\n",
    "        print(f\"Error fetching {url}: {e}\")\n",
    "\n",
    "\n",
    "df.apply(fetch_and_save_text, axis=1)"
   ]
  },
  {
   "cell_type": "markdown",
   "metadata": {
    "id": "N8t7HdG8kT1u"
   },
   "source": [
    "I added the two texts whose urls are not available manually.\n",
    "\n",
    "Regarding the filenames of the generated texts, there are redundant '.txt' (like 'ainsworth-bourbon-1866.txt.txt'). let's cut off the last four digits (.txt)"
   ]
  },
  {
   "cell_type": "code",
   "execution_count": null,
   "metadata": {
    "id": "VFZuC51mcmwT"
   },
   "outputs": [],
   "source": [
    "for filename in os.listdir('/content/drive/MyDrive/hdw_annotation/raw_files'):\n",
    "    if filename.endswith(\".txt.txt\"):\n",
    "        new_filename = filename[:-4]\n",
    "        old_file_path = os.path.join(directory, filename)\n",
    "        new_file_path = os.path.join(directory, new_filename)\n",
    "        os.rename(old_file_path, new_file_path)"
   ]
  },
  {
   "cell_type": "markdown",
   "metadata": {
    "id": "4nhSjCZnX5M_"
   },
   "source": [
    "Using the code in the following link, let's remove\n",
    "\n",
    "---\n",
    "\n",
    "headers and footers\n",
    "#https://github.com/kiasar/gutenberg_cleaner/blob/master/_cleaning_options/strip_headers.py"
   ]
  },
  {
   "cell_type": "code",
   "execution_count": null,
   "metadata": {
    "id": "R2pOYkwomj6g"
   },
   "outputs": [],
   "source": [
    "\"\"\"Module to remove the noise from Project Gutenberg texts.\"\"\"\n",
    "\n",
    "from __future__ import absolute_import, unicode_literals\n",
    "from builtins import str\n",
    "import os\n",
    "\n",
    "TEXT_START_MARKERS = frozenset((\n",
    "    \"*END*THE SMALL PRINT\",\n",
    "    \"*** START OF THE PROJECT GUTENBERG\",\n",
    "    \"*** START OF THIS PROJECT GUTENBERG\",\n",
    "    \"This etext was prepared by\",\n",
    "    \"E-text prepared by\",\n",
    "    \"Produced by\",\n",
    "    \"Distributed Proofreading Team\",\n",
    "    \"Proofreading Team at http://www.pgdp.net\",\n",
    "    \"http://gallica.bnf.fr)\",\n",
    "    \"      http://archive.org/details/\",\n",
    "    \"http://www.pgdp.net\",\n",
    "    \"by The Internet Archive)\",\n",
    "    \"by The Internet Archive/Canadian Libraries\",\n",
    "    \"by The Internet Archive/American Libraries\",\n",
    "    \"public domain material from the Internet Archive\",\n",
    "    \"Internet Archive)\",\n",
    "    \"Internet Archive/Canadian Libraries\",\n",
    "    \"Internet Archive/American Libraries\",\n",
    "    \"material from the Google Print project\",\n",
    "    \"*END THE SMALL PRINT\",\n",
    "    \"***START OF THE PROJECT GUTENBERG\",\n",
    "    \"This etext was produced by\",\n",
    "    \"*** START OF THE COPYRIGHTED\",\n",
    "    \"The Project Gutenberg\",\n",
    "    \"http://gutenberg.spiegel.de/ erreichbar.\",\n",
    "    \"Project Runeberg publishes\",\n",
    "    \"Beginning of this Project Gutenberg\",\n",
    "    \"Project Gutenberg Online Distributed\",\n",
    "    \"Gutenberg Online Distributed\",\n",
    "    \"the Project Gutenberg Online Distributed\",\n",
    "    \"Project Gutenberg TEI\",\n",
    "    \"This eBook was prepared by\",\n",
    "    \"http://gutenberg2000.de erreichbar.\",\n",
    "    \"This Etext was prepared by\",\n",
    "    \"This Project Gutenberg Etext was prepared by\",\n",
    "    \"Gutenberg Distributed Proofreaders\",\n",
    "    \"Project Gutenberg Distributed Proofreaders\",\n",
    "    \"the Project Gutenberg Online Distributed Proofreading Team\",\n",
    "    \"**The Project Gutenberg\",\n",
    "    \"*SMALL PRINT!\",\n",
    "    \"More information about this book is at the top of this file.\",\n",
    "    \"tells you about restrictions in how the file may be used.\",\n",
    "    \"l'authorization à les utilizer pour preparer ce texte.\",\n",
    "    \"of the etext through OCR.\",\n",
    "    \"*****These eBooks Were Prepared By Thousands of Volunteers!*****\",\n",
    "    \"We need your donations more than ever!\",\n",
    "    \" *** START OF THIS PROJECT GUTENBERG\",\n",
    "    \"****     SMALL PRINT!\",\n",
    "    '[\"Small Print\" V.',\n",
    "    '      (http://www.ibiblio.org/gutenberg/',\n",
    "    'and the Project Gutenberg Online Distributed Proofreading Team',\n",
    "    'Mary Meehan, and the Project Gutenberg Online Distributed Proofreading',\n",
    "    '                this Project Gutenberg edition.',\n",
    "))\n",
    "\n",
    "TEXT_END_MARKERS = frozenset((\n",
    "    \"*** END OF THE PROJECT GUTENBERG\",\n",
    "    \"*** END OF THIS PROJECT GUTENBERG\",\n",
    "    \"***END OF THE PROJECT GUTENBERG\",\n",
    "    \"End of the Project Gutenberg\",\n",
    "    \"End of The Project Gutenberg\",\n",
    "    \"Ende dieses Project Gutenberg\",\n",
    "    \"by Project Gutenberg\",\n",
    "    \"End of Project Gutenberg\",\n",
    "    \"End of this Project Gutenberg\",\n",
    "    \"Ende dieses Projekt Gutenberg\",\n",
    "    \"        ***END OF THE PROJECT GUTENBERG\",\n",
    "    \"*** END OF THE COPYRIGHTED\",\n",
    "    \"End of this is COPYRIGHTED\",\n",
    "    \"Ende dieses Etextes \",\n",
    "    \"Ende dieses Project Gutenber\",\n",
    "    \"Ende diese Project Gutenberg\",\n",
    "    \"**This is a COPYRIGHTED Project Gutenberg Etext, Details Above**\",\n",
    "    \"Fin de Project Gutenberg\",\n",
    "    \"The Project Gutenberg Etext of \",\n",
    "    \"Ce document fut presente en lecture\",\n",
    "    \"Ce document fut présenté en lecture\",\n",
    "    \"More information about this book is at the top of this file.\",\n",
    "    \"We need your donations more than ever!\",\n",
    "    \"END OF PROJECT GUTENBERG\",\n",
    "    \" End of the Project Gutenberg\",\n",
    "    \" *** END OF THIS PROJECT GUTENBERG\",\n",
    "))\n",
    "\n",
    "LEGALESE_START_MARKERS = frozenset((\"<<THIS ELECTRONIC VERSION OF\",))\n",
    "\n",
    "LEGALESE_END_MARKERS = frozenset((\"SERVICE THAT CHARGES FOR DOWNLOAD\",))\n",
    "\n",
    "\n",
    "def _strip_headers(text):\n",
    "    \"\"\"Remove lines that are part of the Project Gutenberg header or footer.\n",
    "    Note: The original version of the code can be found at:\n",
    "    https://github.com/c-w/gutenberg/blob/master/gutenberg/cleanup/strip_headers.py\n",
    "    Args:\n",
    "        text (unicode): The body of the text to clean up.\n",
    "    Returns:\n",
    "        unicode: The text with any non-text content removed.\n",
    "    \"\"\"\n",
    "    lines = text.splitlines()\n",
    "    sep = str(os.linesep)\n",
    "\n",
    "    out = []\n",
    "    i = 0\n",
    "    footer_found = False\n",
    "    ignore_section = False\n",
    "\n",
    "    for line in lines:\n",
    "        reset = False\n",
    "\n",
    "        if i <= 600:\n",
    "            # Check if the header ends here\n",
    "            if any(line.startswith(token) for token in TEXT_START_MARKERS):\n",
    "                reset = True\n",
    "\n",
    "            # If it's the end of the header, delete the output produced so far.\n",
    "            # May be done several times, if multiple lines occur indicating the\n",
    "            # end of the header\n",
    "            if reset:\n",
    "                out = []\n",
    "                continue\n",
    "\n",
    "        if i >= 100:\n",
    "            # Check if the footer begins here\n",
    "            if any(line.startswith(token) for token in TEXT_END_MARKERS):\n",
    "                footer_found = True\n",
    "\n",
    "            # If it's the beginning of the footer, stop output\n",
    "            if footer_found:\n",
    "                break\n",
    "\n",
    "        if any(line.startswith(token) for token in LEGALESE_START_MARKERS):\n",
    "            ignore_section = True\n",
    "            continue\n",
    "        elif any(line.startswith(token) for token in LEGALESE_END_MARKERS):\n",
    "            ignore_section = False\n",
    "            continue\n",
    "\n",
    "        if not ignore_section:\n",
    "            out.append(line.rstrip(sep))\n",
    "            i += 1\n",
    "\n",
    "    return sep.join(out)"
   ]
  },
  {
   "cell_type": "code",
   "execution_count": null,
   "metadata": {
    "colab": {
     "base_uri": "https://localhost:8080/",
     "height": 54
    },
    "id": "Ntx4FZFAvoYq",
    "outputId": "ce6c4a18-ccec-4c02-e7d1-e9f6b1e6ce9b"
   },
   "outputs": [
    {
     "data": {
      "application/vnd.google.colaboratory.intrinsic+json": {
       "type": "string"
      },
      "text/plain": [
       "'\\n\\n\\n\\n\\n\\n\\n\\n\\n\\n                            AURIOL\\n\\n                              OR\\n\\n                      THE ELIXIR OF LIFE\\n\\n                   BY W. HARRISON AINSWORTH\\n\\n                AUTHOR OF \"THE TO'"
      ]
     },
     "execution_count": 14,
     "metadata": {},
     "output_type": "execute_result"
    }
   ],
   "source": [
    "with open('/content/drive/MyDrive/hdw_annotation/raw_files/ainsworth-auriol-1850.txt', 'r', encoding='utf-8') as file:\n",
    "  text = file.read()\n",
    "test=_strip_headers(text)\n",
    "test[:200]\n"
   ]
  },
  {
   "cell_type": "code",
   "execution_count": null,
   "metadata": {
    "id": "KYgxdyrtwpHL"
   },
   "outputs": [],
   "source": [
    "#let's check the content of test\n",
    "\n",
    "with open('/content/drive/MyDrive/hdw_annotation/test_ainsworth_cleanedup.txt','w', encoding='utf-8') as file:\n",
    "  file.write(test)\n",
    "\n",
    "#this file still contains title and table of contents. But all headers and footers are removed"
   ]
  },
  {
   "cell_type": "markdown",
   "metadata": {
    "id": "bsZBVylqx7iV"
   },
   "source": [
    "let's remove headers and footers using the code in (https://github.com/kiasar/gutenberg_cleaner/blob/master/_cleaning_options/strip_headers.py) for all files in 'raw_files'"
   ]
  },
  {
   "cell_type": "code",
   "execution_count": null,
   "metadata": {},
   "outputs": [
    {
     "name": "stdout",
     "output_type": "stream",
     "text": [
      "done\n"
     ]
    }
   ],
   "source": [
    "input_dir = '/content/drive/MyDrive/hdw_annotation/raw_files'\n",
    "output_dir = '/content/drive/MyDrive/hdw_annotation/clean_files'\n",
    "\n",
    "\n",
    "for filename in os.listdir(input_dir):\n",
    "    if filename.endswith('.txt'):\n",
    "        input_file_path = os.path.join(input_dir, filename)\n",
    "\n",
    "        with open(input_file_path, 'r', encoding='utf-8') as file:\n",
    "            text = file.read()\n",
    "\n",
    "        cleaned_text = _strip_headers(text)#apply the cleanup function here\n",
    "\n",
    "        output_file_path = os.path.join(output_dir, filename)\n",
    "\n",
    "        with open(output_file_path, 'w', encoding='utf-8') as file:\n",
    "            file.write(cleaned_text)\n",
    "print('done')\n",
    "\n"
   ]
  },
  {
   "cell_type": "markdown",
   "metadata": {},
   "source": [
    "Next, Claudia told me to cut off titles, tables, and contents.\n",
    "To do this, Search if the text contains \"PROLOGUE\\n\\n\". If so, cut off everything before \"Prologue\\n\\n\".\n",
    "If the text doesn't contain \"PROLOGUE\\n\\n\", cut off everything before \"CHAPTER I\\n\\n\"\n",
    "\n",
    "However, this doesn't work due to lots of variations regarding the beginnings of chapters.\n",
    "\n",
    "So, I skipped this process so far."
   ]
  },
  {
   "cell_type": "markdown",
   "metadata": {
    "id": "TR_GemjfNDmO"
   },
   "source": [
    "let's split the cleaned TXT files into 30 chunks based on the word count. "
   ]
  },
  {
   "cell_type": "code",
   "execution_count": 9,
   "metadata": {
    "colab": {
     "base_uri": "https://localhost:8080/"
    },
    "id": "QjdNZB4RIveL",
    "outputId": "6b6c75cd-7c5e-49c7-f420-93709a56975a"
   },
   "outputs": [
    {
     "name": "stdout",
     "output_type": "stream",
     "text": [
      "done\n"
     ]
    }
   ],
   "source": [
    "import os\n",
    "import re\n",
    "\n",
    "input_dir = '/home/c/Downloads/clean_files'\n",
    "output_dir = '/home/c/Downloads/chunked_texts'\n",
    "os.makedirs(output_dir, exist_ok=True)\n",
    "\n",
    "def split_text_into_chunks(text, num_chunks):\n",
    "    words = re.findall(r'\\S+\\s*', text)\n",
    "    chunk_size = len(words) // num_chunks #integer division, pay attention to the remainder later\n",
    "    chunks = []\n",
    "\n",
    "    for i in range(0, len(words), chunk_size):\n",
    "        chunk = ''.join(words[i:i + chunk_size])\n",
    "        chunks.append(chunk)\n",
    "\n",
    "    # If there are fewer chunks than num_chunks due to rounding, merge the last few words\n",
    "    if len(chunks) > num_chunks:\n",
    "        chunks[-2] += chunks[-1]\n",
    "        chunks = chunks[:-1]\n",
    "\n",
    "    return chunks\n",
    "\n",
    "num_chunks = 30\n",
    "\n",
    "for filename in os.listdir(input_dir):\n",
    "    if filename.endswith('.txt'):\n",
    "        input_file_path = os.path.join(input_dir, filename)\n",
    "\n",
    "        with open(input_file_path, 'r', encoding='utf-8') as file:\n",
    "            text = file.read()\n",
    "\n",
    "        chunks = split_text_into_chunks(text, num_chunks)\n",
    "\n",
    "        base_filename = os.path.splitext(filename)[0]\n",
    "        for i, chunk in enumerate(chunks, 1):\n",
    "            output_filename = f\"{base_filename}_{i}.txt\"\n",
    "            output_file_path = os.path.join(output_dir, output_filename)\n",
    "\n",
    "            with open(output_file_path, 'w', encoding='utf-8') as chunk_file:\n",
    "                chunk_file.write(chunk)\n",
    "\n",
    "print('done')\n"
   ]
  },
  {
   "cell_type": "markdown",
   "metadata": {
    "id": "BbL3DstndTHJ"
   },
   "source": [
    "\\S+:  matches one or more (+) non-whitespace characters (\\S). \"\\S\" represents any character except whitespace (space, tab, newline, etc.).\n",
    "\\s*:  matches zero or more (*) whitespace characters (\\s)."
   ]
  },
  {
   "cell_type": "code",
   "execution_count": 11,
   "metadata": {},
   "outputs": [
    {
     "data": {
      "text/plain": [
       "18061"
      ]
     },
     "execution_count": 11,
     "metadata": {},
     "output_type": "execute_result"
    }
   ],
   "source": [
    "# Count the number of files\n",
    "files = os.listdir('/home/c/Downloads/chunked_texts')\n",
    "len([f for f in files if os.path.isfile(os.path.join('/home/c/Downloads/chunked_texts', f))])"
   ]
  },
  {
   "cell_type": "code",
   "execution_count": 12,
   "metadata": {},
   "outputs": [
    {
     "data": {
      "text/plain": [
       "602"
      ]
     },
     "execution_count": 12,
     "metadata": {},
     "output_type": "execute_result"
    }
   ],
   "source": [
    "files = os.listdir('/home/c/Downloads/clean_files')\n",
    "len([f for f in files if os.path.isfile(os.path.join('/home/c/Downloads/clean_files', f))])"
   ]
  },
  {
   "cell_type": "markdown",
   "metadata": {},
   "source": [
    "number of files in chunked_texts look acurate"
   ]
  },
  {
   "cell_type": "markdown",
   "metadata": {},
   "source": [
    "The problem regarding the chunked texts above is, sometimes dialogues at the end of a chunk is split and the part of the dialogue is saved in the next chunk. If this happens, the next chunk starts from part of dialogue, which lacks bedinning quoataion marks.\n",
    "\n",
    "To solve this issue, I need to put the first passage before the first double new lines in each chunk into the previous chunk.\n"
   ]
  },
  {
   "cell_type": "code",
   "execution_count": 13,
   "metadata": {},
   "outputs": [
    {
     "name": "stdout",
     "output_type": "stream",
     "text": [
      "done\n"
     ]
    }
   ],
   "source": [
    "# put the first passage before the first double new lines in each chunk into the previous chunk.\n",
    "import os\n",
    "import re\n",
    "from collections import defaultdict\n",
    "\n",
    "source_folder = '/home/c/Downloads/chunked_texts'\n",
    "dest_folder = '/home/c/Downloads/updated_chunked_texts'\n",
    "\n",
    "os.makedirs(dest_folder, exist_ok=True)\n",
    "\n",
    "text_chunks = defaultdict(dict)\n",
    "\n",
    "# Read all chunks for each text\n",
    "for filename in os.listdir(source_folder):\n",
    "    match = re.match(r'(.+)_(\\d+)\\.txt', filename)\n",
    "    if match:\n",
    "        base_name, chunk_num = match.groups()\n",
    "        chunk_num = int(chunk_num)\n",
    "        file_path = os.path.join(source_folder, filename)\n",
    "        with open(file_path, 'r', encoding='utf-8') as file:\n",
    "            content = file.read()\n",
    "            text_chunks[base_name][chunk_num] = content\n",
    "\n",
    "# Extract first part before double newlines and move to previous chunk\n",
    "for base_name, chunks in text_chunks.items():\n",
    "    chunk_numbers = sorted(chunks.keys())\n",
    "    for i in range(1, len(chunk_numbers)):\n",
    "        current_chunk = chunk_numbers[i]\n",
    "        prev_chunk = chunk_numbers[i-1]\n",
    "        content = chunks[current_chunk]\n",
    "        parts = content.split('\\n\\n', 1)\n",
    "        if len(parts) > 1:\n",
    "            first_part, rest = parts\n",
    "            # Update current chunk\n",
    "            chunks[current_chunk] = rest\n",
    "            # Append first_part to the end of the previous chunk\n",
    "            chunks[prev_chunk] = chunks[prev_chunk] + first_part\n",
    "\n",
    "# let's Save updated chunks to new folder\n",
    "for base_name, chunks in text_chunks.items():\n",
    "    for chunk_num, content in chunks.items():\n",
    "        new_filename = f\"{base_name}_{chunk_num}.txt\"\n",
    "        new_file_path = os.path.join(dest_folder, new_filename)\n",
    "        with open(new_file_path, 'w', encoding='utf-8') as file:\n",
    "            file.write(content)\n",
    "\n",
    "print(\"done\")"
   ]
  },
  {
   "cell_type": "code",
   "execution_count": 14,
   "metadata": {},
   "outputs": [
    {
     "name": "stdout",
     "output_type": "stream",
     "text": [
      "done\n"
     ]
    }
   ],
   "source": [
    "#cut off dialogues \n",
    "import glob\n",
    "\n",
    "def extract_text(text):\n",
    "    # This pattern matches dialogues starting and ending with either single or double quotes\n",
    "    pattern = r'“[^”]*”|‘[^’]*’|\"[^\"]*\"|\\'[^\\']*\\''  # Account for straight quotes\n",
    "    return re.sub(pattern, \"\", text)\n",
    "\n",
    "input_dir = '/home/c/Downloads/updated_chunked_texts'\n",
    "output_dir = '/home/c/Downloads/chunked_texts_no_dialogues'\n",
    "os.makedirs(output_dir, exist_ok=True)\n",
    "\n",
    "txt_files = glob.glob(os.path.join(input_dir, '*.txt'))\n",
    "\n",
    "for txt_file in txt_files:\n",
    "    with open(txt_file, 'r', encoding='utf-8') as file:\n",
    "        text_content = file.read()\n",
    "\n",
    "    # Split the text into paragraphs based on double new lines (representing blank lines)\n",
    "    paragraphs = text_content.split('\\n\\n')\n",
    "\n",
    "    # Clean up each paragraph by removing single new lines\n",
    "    cleaned_paragraphs = [' '.join(paragraph.splitlines()) for paragraph in paragraphs]\n",
    "\n",
    "    processed_paragraphs = []\n",
    "\n",
    "    #aacount for long dialogues lacking closing quotation marks in each paragraph\n",
    "    quote_marks = ['\"', \"'\", '”', '’']\n",
    "    for paragraph in cleaned_paragraphs:\n",
    "        stripped_paragraph = paragraph.strip()\n",
    "        if any(stripped_paragraph.startswith(quote) and quote not in stripped_paragraph[1:] for quote in quote_marks):\n",
    "            continue\n",
    "        processed_paragraph = extract_text(stripped_paragraph)\n",
    "        processed_paragraphs.append(processed_paragraph.strip())\n",
    "\n",
    "    # Remove any empty paragraphs resulting from the dialogue removal\n",
    "    non_blank_paragraphs = [paragraph for paragraph in processed_paragraphs if paragraph]\n",
    "    final_text = '\\n'.join(non_blank_paragraphs)\n",
    "\n",
    "    output_file_path = os.path.join(output_dir, os.path.basename(txt_file))\n",
    "    with open(output_file_path, 'w', encoding='utf-8') as output_file:\n",
    "        output_file.write(final_text)\n",
    "\n",
    "print(\"done\")\n"
   ]
  },
  {
   "cell_type": "code",
   "execution_count": 15,
   "metadata": {},
   "outputs": [
    {
     "name": "stderr",
     "output_type": "stream",
     "text": [
      "[nltk_data] Downloading package punkt to /home/c/nltk_data...\n",
      "[nltk_data]   Package punkt is already up-to-date!\n"
     ]
    },
    {
     "name": "stdout",
     "output_type": "stream",
     "text": [
      "done\n"
     ]
    }
   ],
   "source": [
    "#split the text into full sentence based on nltk (csv1) \n",
    "\n",
    "import csv\n",
    "import nltk\n",
    "from nltk.tokenize import sent_tokenize\n",
    "\n",
    "\n",
    "nltk.download('punkt')\n",
    "\n",
    "txt_files = glob.glob(os.path.join('/home/c/Downloads/chunked_texts_no_dialogues', '*.txt'))\n",
    "\n",
    "\n",
    "with open('/home/c/Downloads/sentences_nltk.csv', 'w', newline='', encoding='utf-8') as csvfile:\n",
    "    csvwriter = csv.writer(csvfile)\n",
    "    csvwriter.writerow(['Filename', 'Sentence'])\n",
    "\n",
    "    for txt_file in txt_files:\n",
    "        with open(txt_file, 'r', encoding='utf-8') as file:\n",
    "            text_content = file.read()\n",
    "\n",
    "        sentences = sent_tokenize(text_content)\n",
    "\n",
    "        for sentence in sentences:\n",
    "            csvwriter.writerow([os.path.basename(txt_file), sentence])\n",
    "\n",
    "print(\"done\")\n"
   ]
  },
  {
   "cell_type": "code",
   "execution_count": 16,
   "metadata": {},
   "outputs": [
    {
     "data": {
      "text/html": [
       "<div>\n",
       "<style scoped>\n",
       "    .dataframe tbody tr th:only-of-type {\n",
       "        vertical-align: middle;\n",
       "    }\n",
       "\n",
       "    .dataframe tbody tr th {\n",
       "        vertical-align: top;\n",
       "    }\n",
       "\n",
       "    .dataframe thead th {\n",
       "        text-align: right;\n",
       "    }\n",
       "</style>\n",
       "<table border=\"1\" class=\"dataframe\">\n",
       "  <thead>\n",
       "    <tr style=\"text-align: right;\">\n",
       "      <th></th>\n",
       "      <th>Filename</th>\n",
       "      <th>Sentence</th>\n",
       "    </tr>\n",
       "  </thead>\n",
       "  <tbody>\n",
       "    <tr>\n",
       "      <th>0</th>\n",
       "      <td>james-eagle-1854_25.txt</td>\n",
       "      <td>CHAPTER XXXIX.</td>\n",
       "    </tr>\n",
       "    <tr>\n",
       "      <th>1</th>\n",
       "      <td>james-eagle-1854_25.txt</td>\n",
       "      <td>The lodge of Black Eagle's sister was next in ...</td>\n",
       "    </tr>\n",
       "    <tr>\n",
       "      <th>2</th>\n",
       "      <td>james-eagle-1854_25.txt</td>\n",
       "      <td>Though on a somewhat smaller scale, it was ver...</td>\n",
       "    </tr>\n",
       "    <tr>\n",
       "      <th>3</th>\n",
       "      <td>james-eagle-1854_25.txt</td>\n",
       "      <td>In a word,  It was only of one story, however;...</td>\n",
       "    </tr>\n",
       "    <tr>\n",
       "      <th>4</th>\n",
       "      <td>james-eagle-1854_25.txt</td>\n",
       "      <td>The possessor of this mansion, who was held in...</td>\n",
       "    </tr>\n",
       "    <tr>\n",
       "      <th>5</th>\n",
       "      <td>james-eagle-1854_25.txt</td>\n",
       "      <td>When Otaitsa approached the door, she found it...</td>\n",
       "    </tr>\n",
       "    <tr>\n",
       "      <th>6</th>\n",
       "      <td>james-eagle-1854_25.txt</td>\n",
       "      <td>A young girl then peeped out, and, seeing the ...</td>\n",
       "    </tr>\n",
       "    <tr>\n",
       "      <th>7</th>\n",
       "      <td>james-eagle-1854_25.txt</td>\n",
       "      <td>The space on that side of the large mat which ...</td>\n",
       "    </tr>\n",
       "    <tr>\n",
       "      <th>8</th>\n",
       "      <td>james-eagle-1854_25.txt</td>\n",
       "      <td>The feelings of Otaitsa's heart were too power...</td>\n",
       "    </tr>\n",
       "    <tr>\n",
       "      <th>9</th>\n",
       "      <td>james-eagle-1854_25.txt</td>\n",
       "      <td>The scene was neither of a beautiful nor of a ...</td>\n",
       "    </tr>\n",
       "    <tr>\n",
       "      <th>10</th>\n",
       "      <td>james-eagle-1854_25.txt</td>\n",
       "      <td>Seated around a large fire in the middle, were...</td>\n",
       "    </tr>\n",
       "    <tr>\n",
       "      <th>11</th>\n",
       "      <td>james-eagle-1854_25.txt</td>\n",
       "      <td>But their lineaments were strongly marked, and...</td>\n",
       "    </tr>\n",
       "    <tr>\n",
       "      <th>12</th>\n",
       "      <td>james-eagle-1854_25.txt</td>\n",
       "      <td>Their eyes, jetty black, and in most cases as ...</td>\n",
       "    </tr>\n",
       "    <tr>\n",
       "      <th>13</th>\n",
       "      <td>james-eagle-1854_25.txt</td>\n",
       "      <td>Outside of the first and elder circle, sat a n...</td>\n",
       "    </tr>\n",
       "    <tr>\n",
       "      <th>14</th>\n",
       "      <td>james-eagle-1854_25.txt</td>\n",
       "      <td>Many of them were exceedingly beautiful; but t...</td>\n",
       "    </tr>\n",
       "    <tr>\n",
       "      <th>15</th>\n",
       "      <td>james-eagle-1854_25.txt</td>\n",
       "      <td>Seated, not on the ground like the rest, but o...</td>\n",
       "    </tr>\n",
       "    <tr>\n",
       "      <th>16</th>\n",
       "      <td>james-eagle-1854_25.txt</td>\n",
       "      <td>She was much older than her brother.</td>\n",
       "    </tr>\n",
       "    <tr>\n",
       "      <th>17</th>\n",
       "      <td>james-eagle-1854_25.txt</td>\n",
       "      <td>Her hair, almost as white as snow, was knotted...</td>\n",
       "    </tr>\n",
       "    <tr>\n",
       "      <th>18</th>\n",
       "      <td>james-eagle-1854_25.txt</td>\n",
       "      <td>Her features were aquiline, and much more prom...</td>\n",
       "    </tr>\n",
       "    <tr>\n",
       "      <th>19</th>\n",
       "      <td>james-eagle-1854_25.txt</td>\n",
       "      <td>The moment they lighted upon Otaitsa, the excl...</td>\n",
       "    </tr>\n",
       "    <tr>\n",
       "      <th>20</th>\n",
       "      <td>james-eagle-1854_25.txt</td>\n",
       "      <td>she said, without pause or hesitation; for it ...</td>\n",
       "    </tr>\n",
       "    <tr>\n",
       "      <th>21</th>\n",
       "      <td>james-eagle-1854_25.txt</td>\n",
       "      <td>exclaimed the old woman, in a firm and decided...</td>\n",
       "    </tr>\n",
       "    <tr>\n",
       "      <th>22</th>\n",
       "      <td>james-eagle-1854_25.txt</td>\n",
       "      <td>Otaitsa gazed round the circle, and saw a ster...</td>\n",
       "    </tr>\n",
       "    <tr>\n",
       "      <th>23</th>\n",
       "      <td>james-eagle-1854_25.txt</td>\n",
       "      <td>Her own heart was not one to quail at any unde...</td>\n",
       "    </tr>\n",
       "    <tr>\n",
       "      <th>24</th>\n",
       "      <td>james-eagle-1854_25.txt</td>\n",
       "      <td>But it must not be supposed that the Christian...</td>\n",
       "    </tr>\n",
       "    <tr>\n",
       "      <th>25</th>\n",
       "      <td>james-eagle-1854_25.txt</td>\n",
       "      <td>All the daily habits of life, all that she saw...</td>\n",
       "    </tr>\n",
       "    <tr>\n",
       "      <th>26</th>\n",
       "      <td>james-eagle-1854_25.txt</td>\n",
       "      <td>The first impulse was always Indian; the recti...</td>\n",
       "    </tr>\n",
       "    <tr>\n",
       "      <th>27</th>\n",
       "      <td>james-eagle-1854_25.txt</td>\n",
       "      <td>After gazing round them for an instant, she an...</td>\n",
       "    </tr>\n",
       "    <tr>\n",
       "      <th>28</th>\n",
       "      <td>james-eagle-1854_25.txt</td>\n",
       "      <td>asked Otaitsa.</td>\n",
       "    </tr>\n",
       "    <tr>\n",
       "      <th>29</th>\n",
       "      <td>james-eagle-1854_25.txt</td>\n",
       "      <td>returned the Grey Dove.</td>\n",
       "    </tr>\n",
       "  </tbody>\n",
       "</table>\n",
       "</div>"
      ],
      "text/plain": [
       "                   Filename                                           Sentence\n",
       "0   james-eagle-1854_25.txt                                     CHAPTER XXXIX.\n",
       "1   james-eagle-1854_25.txt  The lodge of Black Eagle's sister was next in ...\n",
       "2   james-eagle-1854_25.txt  Though on a somewhat smaller scale, it was ver...\n",
       "3   james-eagle-1854_25.txt  In a word,  It was only of one story, however;...\n",
       "4   james-eagle-1854_25.txt  The possessor of this mansion, who was held in...\n",
       "5   james-eagle-1854_25.txt  When Otaitsa approached the door, she found it...\n",
       "6   james-eagle-1854_25.txt  A young girl then peeped out, and, seeing the ...\n",
       "7   james-eagle-1854_25.txt  The space on that side of the large mat which ...\n",
       "8   james-eagle-1854_25.txt  The feelings of Otaitsa's heart were too power...\n",
       "9   james-eagle-1854_25.txt  The scene was neither of a beautiful nor of a ...\n",
       "10  james-eagle-1854_25.txt  Seated around a large fire in the middle, were...\n",
       "11  james-eagle-1854_25.txt  But their lineaments were strongly marked, and...\n",
       "12  james-eagle-1854_25.txt  Their eyes, jetty black, and in most cases as ...\n",
       "13  james-eagle-1854_25.txt  Outside of the first and elder circle, sat a n...\n",
       "14  james-eagle-1854_25.txt  Many of them were exceedingly beautiful; but t...\n",
       "15  james-eagle-1854_25.txt  Seated, not on the ground like the rest, but o...\n",
       "16  james-eagle-1854_25.txt               She was much older than her brother.\n",
       "17  james-eagle-1854_25.txt  Her hair, almost as white as snow, was knotted...\n",
       "18  james-eagle-1854_25.txt  Her features were aquiline, and much more prom...\n",
       "19  james-eagle-1854_25.txt  The moment they lighted upon Otaitsa, the excl...\n",
       "20  james-eagle-1854_25.txt  she said, without pause or hesitation; for it ...\n",
       "21  james-eagle-1854_25.txt  exclaimed the old woman, in a firm and decided...\n",
       "22  james-eagle-1854_25.txt  Otaitsa gazed round the circle, and saw a ster...\n",
       "23  james-eagle-1854_25.txt  Her own heart was not one to quail at any unde...\n",
       "24  james-eagle-1854_25.txt  But it must not be supposed that the Christian...\n",
       "25  james-eagle-1854_25.txt  All the daily habits of life, all that she saw...\n",
       "26  james-eagle-1854_25.txt  The first impulse was always Indian; the recti...\n",
       "27  james-eagle-1854_25.txt  After gazing round them for an instant, she an...\n",
       "28  james-eagle-1854_25.txt                                     asked Otaitsa.\n",
       "29  james-eagle-1854_25.txt                            returned the Grey Dove."
      ]
     },
     "execution_count": 16,
     "metadata": {},
     "output_type": "execute_result"
    }
   ],
   "source": [
    "import pandas as pd \n",
    "\n",
    "df=pd.read_csv('/home/c/Downloads/sentences_nltk.csv')\n",
    "df.head(30)"
   ]
  },
  {
   "cell_type": "code",
   "execution_count": 17,
   "metadata": {},
   "outputs": [
    {
     "data": {
      "text/plain": [
       "0                                                                                                                                                                                                                                                                                                                                                                                                                                                   CHAPTER XXXIX.\n",
       "1                                                                                                                                                                                                                                                                                                           The lodge of Black Eagle's sister was next in size and importance to that of the chief himself, and on it, too, some European skill had been expended.\n",
       "2                                                                                                                                                                                                                                                                       Though on a somewhat smaller scale, it was very much such another building as that which has been described by a writer of those times as the palace of a celebrated chief of the Mohawks.\n",
       "3                                                                                                                                                                  In a word,  It was only of one story, however; but the workmen who had erected it a good many years before, on their return from the completion of Fort Oswego, had added a door of European form, with a latch and a brass knob, which greatly increased its dignity in the eyes of the tribe.\n",
       "4    The possessor of this mansion, who was held in great reverence all through the Oneida nation, and was supposed to have communication with the spiritual world, had obtained, I know not how, the name of the Grey Dove, although her features by no means displayed the characteristic meekness of the bird from which she derived her appellation, but bore a considerable resemblance to those of her brother, which certainly well accorded with his name.\n",
       "5                                                                                                                                                                                                                                                                                                                                               When Otaitsa approached the door, she found it fastened, and she knocked twice with her hand before it was opened.\n",
       "6                                                                                                                                                                                                                                                                                                                                            A young girl then peeped out, and, seeing the Sachem's daughter, gave her admission at once into the outer apartment.\n",
       "7                                                                                                                                                                                                                                                        The space on that side of the large mat which formed the partition was vacant; but a murmur of voices came from the division beyond, and a light shone through the crevices between the mat and the wall.\n",
       "8                                                                                                                                                                           The feelings of Otaitsa's heart were too powerful to leave any timidity in her bosom; and, although she shared in some degree the feelings with which the other Oneidas regarded the Grey Dove, she advanced at once, drew back the corner of the mat, and entered the chamber beyond.\n",
       "9                                                                                                                                                                                                                                                                                                                                      The scene was neither of a beautiful nor of a very solemn character; nevertheless, there was something very striking in it.\n",
       "Name: Sentence, dtype: object"
      ]
     },
     "execution_count": 17,
     "metadata": {},
     "output_type": "execute_result"
    }
   ],
   "source": [
    "pd.set_option('display.max_colwidth', None)\n",
    "df['Sentence'][:10]"
   ]
  },
  {
   "cell_type": "code",
   "execution_count": 21,
   "metadata": {},
   "outputs": [
    {
     "name": "stdout",
     "output_type": "stream",
     "text": [
      "<class 'pandas.core.frame.DataFrame'>\n",
      "RangeIndex: 2173901 entries, 0 to 2173900\n",
      "Data columns (total 2 columns):\n",
      " #   Column    Dtype \n",
      "---  ------    ----- \n",
      " 0   Filename  object\n",
      " 1   Sentence  object\n",
      "dtypes: object(2)\n",
      "memory usage: 33.2+ MB\n"
     ]
    }
   ],
   "source": [
    "df.info()"
   ]
  },
  {
   "cell_type": "code",
   "execution_count": 1,
   "metadata": {},
   "outputs": [
    {
     "name": "stdout",
     "output_type": "stream",
     "text": [
      "done\n"
     ]
    }
   ],
   "source": [
    "#split based on commas and semicolons\n",
    "\n",
    "import pandas as pd\n",
    "import re\n",
    "\n",
    "df = pd.read_csv('/home/c/Downloads/sentences_nltk.csv')\n",
    "\n",
    "\n",
    "results = []\n",
    "\n",
    "# Iterate over each row in the DataFrame\n",
    "for index, row in df.iterrows():\n",
    "    filename = row['Filename']\n",
    "    sentences = row['Sentence']\n",
    "    split_sentences = [s.strip() for s in re.split('[,;]', sentences) if s.strip()]\n",
    "    for sentence in split_sentences:\n",
    "        results.append({'Filename': filename, 'Sentence': sentence})\n",
    "\n",
    "\n",
    "output_df = pd.DataFrame(results)\n",
    "output_df.to_csv('/home/c/Downloads/split_sentences_comma_semicolon.csv', index=False)\n",
    "\n",
    "print('done')\n",
    "\n",
    "\n"
   ]
  },
  {
   "cell_type": "code",
   "execution_count": 2,
   "metadata": {},
   "outputs": [
    {
     "data": {
      "text/html": [
       "<div>\n",
       "<style scoped>\n",
       "    .dataframe tbody tr th:only-of-type {\n",
       "        vertical-align: middle;\n",
       "    }\n",
       "\n",
       "    .dataframe tbody tr th {\n",
       "        vertical-align: top;\n",
       "    }\n",
       "\n",
       "    .dataframe thead th {\n",
       "        text-align: right;\n",
       "    }\n",
       "</style>\n",
       "<table border=\"1\" class=\"dataframe\">\n",
       "  <thead>\n",
       "    <tr style=\"text-align: right;\">\n",
       "      <th></th>\n",
       "      <th>Filename</th>\n",
       "      <th>Sentence</th>\n",
       "    </tr>\n",
       "  </thead>\n",
       "  <tbody>\n",
       "    <tr>\n",
       "      <th>0</th>\n",
       "      <td>james-eagle-1854_25.txt</td>\n",
       "      <td>CHAPTER XXXIX.</td>\n",
       "    </tr>\n",
       "    <tr>\n",
       "      <th>1</th>\n",
       "      <td>james-eagle-1854_25.txt</td>\n",
       "      <td>The lodge of Black Eagle's sister was next in ...</td>\n",
       "    </tr>\n",
       "    <tr>\n",
       "      <th>2</th>\n",
       "      <td>james-eagle-1854_25.txt</td>\n",
       "      <td>and on it</td>\n",
       "    </tr>\n",
       "    <tr>\n",
       "      <th>3</th>\n",
       "      <td>james-eagle-1854_25.txt</td>\n",
       "      <td>too</td>\n",
       "    </tr>\n",
       "    <tr>\n",
       "      <th>4</th>\n",
       "      <td>james-eagle-1854_25.txt</td>\n",
       "      <td>some European skill had been expended.</td>\n",
       "    </tr>\n",
       "    <tr>\n",
       "      <th>5</th>\n",
       "      <td>james-eagle-1854_25.txt</td>\n",
       "      <td>Though on a somewhat smaller scale</td>\n",
       "    </tr>\n",
       "    <tr>\n",
       "      <th>6</th>\n",
       "      <td>james-eagle-1854_25.txt</td>\n",
       "      <td>it was very much such another building as that...</td>\n",
       "    </tr>\n",
       "    <tr>\n",
       "      <th>7</th>\n",
       "      <td>james-eagle-1854_25.txt</td>\n",
       "      <td>In a word</td>\n",
       "    </tr>\n",
       "    <tr>\n",
       "      <th>8</th>\n",
       "      <td>james-eagle-1854_25.txt</td>\n",
       "      <td>It was only of one story</td>\n",
       "    </tr>\n",
       "    <tr>\n",
       "      <th>9</th>\n",
       "      <td>james-eagle-1854_25.txt</td>\n",
       "      <td>however</td>\n",
       "    </tr>\n",
       "  </tbody>\n",
       "</table>\n",
       "</div>"
      ],
      "text/plain": [
       "                  Filename                                           Sentence\n",
       "0  james-eagle-1854_25.txt                                     CHAPTER XXXIX.\n",
       "1  james-eagle-1854_25.txt  The lodge of Black Eagle's sister was next in ...\n",
       "2  james-eagle-1854_25.txt                                          and on it\n",
       "3  james-eagle-1854_25.txt                                                too\n",
       "4  james-eagle-1854_25.txt             some European skill had been expended.\n",
       "5  james-eagle-1854_25.txt                 Though on a somewhat smaller scale\n",
       "6  james-eagle-1854_25.txt  it was very much such another building as that...\n",
       "7  james-eagle-1854_25.txt                                          In a word\n",
       "8  james-eagle-1854_25.txt                           It was only of one story\n",
       "9  james-eagle-1854_25.txt                                            however"
      ]
     },
     "execution_count": 2,
     "metadata": {},
     "output_type": "execute_result"
    }
   ],
   "source": [
    "df3=pd.read_csv('split_sentences_comma_semicolon.csv')\n",
    "df3.head(10)\n",
    "\n"
   ]
  },
  {
   "cell_type": "code",
   "execution_count": 3,
   "metadata": {},
   "outputs": [
    {
     "data": {
      "text/plain": [
       "0                                       CHAPTER XXXIX.\n",
       "1    The lodge of Black Eagle's sister was next in ...\n",
       "2                                            and on it\n",
       "3                                                  too\n",
       "4               some European skill had been expended.\n",
       "5                   Though on a somewhat smaller scale\n",
       "6    it was very much such another building as that...\n",
       "7                                            In a word\n",
       "8                             It was only of one story\n",
       "9                                              however\n",
       "Name: Sentence, dtype: object"
      ]
     },
     "execution_count": 3,
     "metadata": {},
     "output_type": "execute_result"
    }
   ],
   "source": [
    "df3[\"Sentence\"][:10]"
   ]
  },
  {
   "cell_type": "code",
   "execution_count": 4,
   "metadata": {},
   "outputs": [
    {
     "name": "stdout",
     "output_type": "stream",
     "text": [
      "done\n"
     ]
    }
   ],
   "source": [
    "\n",
    "#this code will split the sentences generated by nltk based on colons and semicolons\n",
    "\n",
    "\n",
    "\n",
    "df = pd.read_csv('/home/c/Downloads/sentences_nltk.csv')\n",
    "\n",
    "\n",
    "results = []\n",
    "\n",
    "# Iterate over each row in the DataFrame\n",
    "for index, row in df.iterrows():\n",
    "    filename = row['Filename']\n",
    "    sentences = row['Sentence']\n",
    "    split_sentences = [s.strip() for s in re.split('[:;]', sentences) if s.strip()]\n",
    "    for sentence in split_sentences:\n",
    "        results.append({'Filename': filename, 'Sentence': sentence})\n",
    "\n",
    "\n",
    "output_df = pd.DataFrame(results)\n",
    "output_df.to_csv('/home/c/Downloads/split_sentences_colon_semicolon.csv', index=False)\n",
    "\n",
    "print('done')\n",
    "\n",
    "\n"
   ]
  },
  {
   "cell_type": "code",
   "execution_count": 5,
   "metadata": {},
   "outputs": [
    {
     "data": {
      "text/html": [
       "<div>\n",
       "<style scoped>\n",
       "    .dataframe tbody tr th:only-of-type {\n",
       "        vertical-align: middle;\n",
       "    }\n",
       "\n",
       "    .dataframe tbody tr th {\n",
       "        vertical-align: top;\n",
       "    }\n",
       "\n",
       "    .dataframe thead th {\n",
       "        text-align: right;\n",
       "    }\n",
       "</style>\n",
       "<table border=\"1\" class=\"dataframe\">\n",
       "  <thead>\n",
       "    <tr style=\"text-align: right;\">\n",
       "      <th></th>\n",
       "      <th>Filename</th>\n",
       "      <th>Sentence</th>\n",
       "    </tr>\n",
       "  </thead>\n",
       "  <tbody>\n",
       "    <tr>\n",
       "      <th>0</th>\n",
       "      <td>james-eagle-1854_25.txt</td>\n",
       "      <td>CHAPTER XXXIX.</td>\n",
       "    </tr>\n",
       "    <tr>\n",
       "      <th>1</th>\n",
       "      <td>james-eagle-1854_25.txt</td>\n",
       "      <td>The lodge of Black Eagle's sister was next in ...</td>\n",
       "    </tr>\n",
       "    <tr>\n",
       "      <th>2</th>\n",
       "      <td>james-eagle-1854_25.txt</td>\n",
       "      <td>Though on a somewhat smaller scale, it was ver...</td>\n",
       "    </tr>\n",
       "    <tr>\n",
       "      <th>3</th>\n",
       "      <td>james-eagle-1854_25.txt</td>\n",
       "      <td>In a word,  It was only of one story, however</td>\n",
       "    </tr>\n",
       "    <tr>\n",
       "      <th>4</th>\n",
       "      <td>james-eagle-1854_25.txt</td>\n",
       "      <td>but the workmen who had erected it a good many...</td>\n",
       "    </tr>\n",
       "  </tbody>\n",
       "</table>\n",
       "</div>"
      ],
      "text/plain": [
       "                  Filename                                           Sentence\n",
       "0  james-eagle-1854_25.txt                                     CHAPTER XXXIX.\n",
       "1  james-eagle-1854_25.txt  The lodge of Black Eagle's sister was next in ...\n",
       "2  james-eagle-1854_25.txt  Though on a somewhat smaller scale, it was ver...\n",
       "3  james-eagle-1854_25.txt      In a word,  It was only of one story, however\n",
       "4  james-eagle-1854_25.txt  but the workmen who had erected it a good many..."
      ]
     },
     "execution_count": 5,
     "metadata": {},
     "output_type": "execute_result"
    }
   ],
   "source": [
    "df4=pd.read_csv('/home/c/Downloads/split_sentences_colon_semicolon.csv')\n",
    "df4.head()\n"
   ]
  },
  {
   "cell_type": "code",
   "execution_count": 6,
   "metadata": {},
   "outputs": [
    {
     "data": {
      "text/plain": [
       "0                                                                                                                                                                                                                                                                                                                                                                                                                                                    CHAPTER XXXIX.\n",
       "1                                                                                                                                                                                                                                                                                                            The lodge of Black Eagle's sister was next in size and importance to that of the chief himself, and on it, too, some European skill had been expended.\n",
       "2                                                                                                                                                                                                                                                                        Though on a somewhat smaller scale, it was very much such another building as that which has been described by a writer of those times as the palace of a celebrated chief of the Mohawks.\n",
       "3                                                                                                                                                                                                                                                                                                                                                                                                                     In a word,  It was only of one story, however\n",
       "4                                                                                                                                                                                                                  but the workmen who had erected it a good many years before, on their return from the completion of Fort Oswego, had added a door of European form, with a latch and a brass knob, which greatly increased its dignity in the eyes of the tribe.\n",
       "5     The possessor of this mansion, who was held in great reverence all through the Oneida nation, and was supposed to have communication with the spiritual world, had obtained, I know not how, the name of the Grey Dove, although her features by no means displayed the characteristic meekness of the bird from which she derived her appellation, but bore a considerable resemblance to those of her brother, which certainly well accorded with his name.\n",
       "6                                                                                                                                                                                                                                                                                                                                                When Otaitsa approached the door, she found it fastened, and she knocked twice with her hand before it was opened.\n",
       "7                                                                                                                                                                                                                                                                                                                                             A young girl then peeped out, and, seeing the Sachem's daughter, gave her admission at once into the outer apartment.\n",
       "8                                                                                                                                                                                                                                                                                                                                                                                     The space on that side of the large mat which formed the partition was vacant\n",
       "9                                                                                                                                                                                                                                                                                                                                        but a murmur of voices came from the division beyond, and a light shone through the crevices between the mat and the wall.\n",
       "10                                                                                                                                                                                                                                                                                                                                                                             The feelings of Otaitsa's heart were too powerful to leave any timidity in her bosom\n",
       "11                                                                                                                                                                                                                                                                 and, although she shared in some degree the feelings with which the other Oneidas regarded the Grey Dove, she advanced at once, drew back the corner of the mat, and entered the chamber beyond.\n",
       "12                                                                                                                                                                                                                                                                                                                                                                                              The scene was neither of a beautiful nor of a very solemn character\n",
       "13                                                                                                                                                                                                                                                                                                                                                                                                           nevertheless, there was something very striking in it.\n",
       "14                                                                                                                                                                                                                                                                        Seated around a large fire in the middle, were a number of the elder women of the tribe, whose features and forms, once, perhaps, fair and lovely, had lost almost every trace of beauty.\n",
       "15                                                                                                                                                                                                                                                                                                                                                     But their lineaments were strongly marked, and had, in many instances, a stern and almost fierce expression.\n",
       "16                                                                                                                                                                                                                                                                                                                                          Their eyes, jetty black, and in most cases as brilliant as in early youth, shone in the light of the fire like diamonds\n",
       "17                                                                                                                                                                                                                                                                   and, in many an attitude and gesture, appeared much of that grace which lingers longer with people accustomed to a free and unconfined life, than with those of rigid and conventional habits.\n",
       "18                                                                                                                                                                                                                                                                                                                    Outside of the first and elder circle, sat a number of the younger women, from fifteen or sixteen years of age, up to five or six and twenty.\n",
       "19                                                                                                                                                                                                                                                                                                                                                                                                                          Many of them were exceedingly beautiful\n",
       "20                                                                                                                                                                                                  but the figures of their elder companions shaded them mostly from the glare of the fire, and it was only here and there that one of those countenances could be discovered which might offer, in many of the Indian tribes, fit models for painter or sculptor.\n",
       "21                                                                                                                                                                               Seated, not on the ground like the rest, but on a small low settle at the further side of the inner circle, appeared Black Eagle's sister, gorgeously dressed almost entirely in crimson, with anklets and bracelets of gold, and innumerable glittering ornaments round her neck.\n",
       "22                                                                                                                                                                                                                                                                                                                                                                                                                             She was much older than her brother.\n",
       "23                                                                                                                                                                                                                                                                                                                                                         Her hair, almost as white as snow, was knotted up behind on the ordinary roller, without any decoration.\n",
       "24                                                                                                                                                                                                                                                                                                                                                                                    Her features were aquiline, and much more prominent than those of Black Eagle\n",
       "25                                                                                                                                                                                                                                                                                                                                                                                                                         and her eyes were still keen and bright.\n",
       "26                                                                                                                                                                                                                                                       The moment they lighted upon Otaitsa, the exclamation burst from her lips,--\\nOtaitsa passed between two of the younger and two of the elder women, taking her place between the inner circle and the fire\n",
       "27                                                                                                                                                                                                                                                              and wonderfully bright and beautiful did she look, with the flame flashing upon her exquisite form and delicate features, and lighting up a countenance full of strong enthusiasm and pure emotion.\n",
       "28                                                                                                                                                                                                                                                                                                                                                                                                                            she said, without pause or hesitation\n",
       "29                                                                                                                                                                                                                                                                                          for it must be remarked that the stoical gravity which prevailed at the conferences of the chiefs and warriors was not thought necessary among the women of the tribes.\n",
       "Name: Sentence, dtype: object"
      ]
     },
     "execution_count": 6,
     "metadata": {},
     "output_type": "execute_result"
    }
   ],
   "source": [
    "pd.set_option('display.max_colwidth', None)\n",
    "df4['Sentence'][:30]"
   ]
  },
  {
   "cell_type": "code",
   "execution_count": 2,
   "metadata": {},
   "outputs": [
    {
     "name": "stdout",
     "output_type": "stream",
     "text": [
      "done\n"
     ]
    }
   ],
   "source": [
    "#compile dialogues in a different CSV file \n",
    "\n",
    "import os\n",
    "import re\n",
    "import pandas as pd\n",
    "\n",
    "input_folder = '/home/c/Downloads/updated_chunked_texts'\n",
    "output_csv = '/home/c/Downloads/dialogues.csv'\n",
    "\n",
    "pattern = r'“[^”]*”|‘[^’]*’|\"[^\"]*\"|\\'[^\\']*\\''\n",
    "\n",
    "results = []\n",
    "\n",
    "for filename in os.listdir(input_folder):\n",
    "    if filename.endswith('.txt'):\n",
    "        filepath = os.path.join(input_folder, filename)\n",
    "        with open(filepath, 'r', encoding='utf-8') as file:\n",
    "            content = file.read()\n",
    "            dialogues = re.findall(pattern, content)\n",
    "            for dialogue in dialogues:\n",
    "                results.append({'Filename': filename, 'Sentence': dialogue})\n",
    "\n",
    "df = pd.DataFrame(results, columns=['Filename', 'Sentence'])\n",
    "\n",
    "df.to_csv(output_csv, index=False)\n",
    "\n",
    "print('done')\n"
   ]
  },
  {
   "cell_type": "code",
   "execution_count": 3,
   "metadata": {},
   "outputs": [
    {
     "data": {
      "text/html": [
       "<div>\n",
       "<style scoped>\n",
       "    .dataframe tbody tr th:only-of-type {\n",
       "        vertical-align: middle;\n",
       "    }\n",
       "\n",
       "    .dataframe tbody tr th {\n",
       "        vertical-align: top;\n",
       "    }\n",
       "\n",
       "    .dataframe thead th {\n",
       "        text-align: right;\n",
       "    }\n",
       "</style>\n",
       "<table border=\"1\" class=\"dataframe\">\n",
       "  <thead>\n",
       "    <tr style=\"text-align: right;\">\n",
       "      <th></th>\n",
       "      <th>Filename</th>\n",
       "      <th>Sentence</th>\n",
       "    </tr>\n",
       "  </thead>\n",
       "  <tbody>\n",
       "    <tr>\n",
       "      <th>0</th>\n",
       "      <td>james-eagle-1854_25.txt</td>\n",
       "      <td>'s sister was next in size and importance to\\n...</td>\n",
       "    </tr>\n",
       "    <tr>\n",
       "      <th>1</th>\n",
       "      <td>james-eagle-1854_25.txt</td>\n",
       "      <td>'s heart were too powerful to leave any\\ntimid...</td>\n",
       "    </tr>\n",
       "    <tr>\n",
       "      <th>2</th>\n",
       "      <td>james-eagle-1854_25.txt</td>\n",
       "      <td>\"She is come! the Great Spirit has sent her! S...</td>\n",
       "    </tr>\n",
       "    <tr>\n",
       "      <th>3</th>\n",
       "      <td>james-eagle-1854_25.txt</td>\n",
       "      <td>\"Thy child hears thy words,\"</td>\n",
       "    </tr>\n",
       "    <tr>\n",
       "      <th>4</th>\n",
       "      <td>james-eagle-1854_25.txt</td>\n",
       "      <td>\"What has the Grey Dove to say to the\\ndaughte...</td>\n",
       "    </tr>\n",
       "  </tbody>\n",
       "</table>\n",
       "</div>"
      ],
      "text/plain": [
       "                  Filename                                           Sentence\n",
       "0  james-eagle-1854_25.txt  's sister was next in size and importance to\\n...\n",
       "1  james-eagle-1854_25.txt  's heart were too powerful to leave any\\ntimid...\n",
       "2  james-eagle-1854_25.txt  \"She is come! the Great Spirit has sent her! S...\n",
       "3  james-eagle-1854_25.txt                       \"Thy child hears thy words,\"\n",
       "4  james-eagle-1854_25.txt  \"What has the Grey Dove to say to the\\ndaughte..."
      ]
     },
     "execution_count": 3,
     "metadata": {},
     "output_type": "execute_result"
    }
   ],
   "source": [
    "df5=pd.read_csv('/home/c/Downloads/dialogues.csv')\n",
    "df5.head()\n",
    "#this may not be so accurate for single quotes the file 'james-eagle-1854_25.txt'"
   ]
  },
  {
   "cell_type": "code",
   "execution_count": 4,
   "metadata": {},
   "outputs": [
    {
     "data": {
      "text/html": [
       "<div>\n",
       "<style scoped>\n",
       "    .dataframe tbody tr th:only-of-type {\n",
       "        vertical-align: middle;\n",
       "    }\n",
       "\n",
       "    .dataframe tbody tr th {\n",
       "        vertical-align: top;\n",
       "    }\n",
       "\n",
       "    .dataframe thead th {\n",
       "        text-align: right;\n",
       "    }\n",
       "</style>\n",
       "<table border=\"1\" class=\"dataframe\">\n",
       "  <thead>\n",
       "    <tr style=\"text-align: right;\">\n",
       "      <th></th>\n",
       "      <th>Filename</th>\n",
       "      <th>Sentence</th>\n",
       "    </tr>\n",
       "  </thead>\n",
       "  <tbody>\n",
       "    <tr>\n",
       "      <th>1441409</th>\n",
       "      <td>ainsworth-auriol-1850_2.txt</td>\n",
       "      <td>'s figure was slight, but admirably proportion...</td>\n",
       "    </tr>\n",
       "    <tr>\n",
       "      <th>1441410</th>\n",
       "      <td>ainsworth-auriol-1850_2.txt</td>\n",
       "      <td>\"What have you done to me?\"</td>\n",
       "    </tr>\n",
       "    <tr>\n",
       "      <th>1441411</th>\n",
       "      <td>ainsworth-auriol-1850_2.txt</td>\n",
       "      <td>\"the\\ntorture of my wound has suddenly ceased,...</td>\n",
       "    </tr>\n",
       "    <tr>\n",
       "      <th>1441412</th>\n",
       "      <td>ainsworth-auriol-1850_2.txt</td>\n",
       "      <td>\"You are cared for by one who has greater skil...</td>\n",
       "    </tr>\n",
       "    <tr>\n",
       "      <th>1441413</th>\n",
       "      <td>ainsworth-auriol-1850_2.txt</td>\n",
       "      <td>\"If I can manage to transport you to his\\nlodg...</td>\n",
       "    </tr>\n",
       "    <tr>\n",
       "      <th>1441414</th>\n",
       "      <td>ainsworth-auriol-1850_2.txt</td>\n",
       "      <td>\"Do not delay, then,\"</td>\n",
       "    </tr>\n",
       "    <tr>\n",
       "      <th>1441415</th>\n",
       "      <td>ainsworth-auriol-1850_2.txt</td>\n",
       "      <td>\"for though I am free from\\npain, I feel that ...</td>\n",
       "    </tr>\n",
       "    <tr>\n",
       "      <th>1441416</th>\n",
       "      <td>ainsworth-auriol-1850_2.txt</td>\n",
       "      <td>\"Press this handkerchief to your side, and lea...</td>\n",
       "    </tr>\n",
       "    <tr>\n",
       "      <th>1441417</th>\n",
       "      <td>ainsworth-auriol-1850_2.txt</td>\n",
       "      <td>\"Doctor Lamb's dwelling is but a step from the...</td>\n",
       "    </tr>\n",
       "    <tr>\n",
       "      <th>1441418</th>\n",
       "      <td>ainsworth-auriol-1850_2.txt</td>\n",
       "      <td>\"It is the first I ever heard of him,\"</td>\n",
       "    </tr>\n",
       "    <tr>\n",
       "      <th>1441419</th>\n",
       "      <td>ainsworth-auriol-1850_2.txt</td>\n",
       "      <td>\"but take\\nme to him quickly, or it will be to...</td>\n",
       "    </tr>\n",
       "    <tr>\n",
       "      <th>1441420</th>\n",
       "      <td>ainsworth-auriol-1850_2.txt</td>\n",
       "      <td>'s door. Baldred tapped against\\nit, and the s...</td>\n",
       "    </tr>\n",
       "    <tr>\n",
       "      <th>1441421</th>\n",
       "      <td>ainsworth-auriol-1850_2.txt</td>\n",
       "      <td>'s injunctions,\\nturned to inquire what he sho...</td>\n",
       "    </tr>\n",
       "    <tr>\n",
       "      <th>1441422</th>\n",
       "      <td>ainsworth-auriol-1850_2.txt</td>\n",
       "      <td>\"the Malachim,\"</td>\n",
       "    </tr>\n",
       "    <tr>\n",
       "      <th>1441423</th>\n",
       "      <td>ainsworth-auriol-1850_2.txt</td>\n",
       "      <td>\"the\\nPassing of the River.\"</td>\n",
       "    </tr>\n",
       "    <tr>\n",
       "      <th>1441424</th>\n",
       "      <td>ainsworth-auriol-1850_2.txt</td>\n",
       "      <td>' sabbath.\\n\\nAuriol'</td>\n",
       "    </tr>\n",
       "    <tr>\n",
       "      <th>1441425</th>\n",
       "      <td>ainsworth-auriol-1850_2.txt</td>\n",
       "      <td>\"At length,\"</td>\n",
       "    </tr>\n",
       "    <tr>\n",
       "      <th>1441426</th>\n",
       "      <td>ainsworth-auriol-1850_2.txt</td>\n",
       "      <td>\"at length, the great work is achieved.\\nWith ...</td>\n",
       "    </tr>\n",
       "    <tr>\n",
       "      <th>1441427</th>\n",
       "      <td>ainsworth-auriol-1850_2.txt</td>\n",
       "      <td>\"To live for ever!\"</td>\n",
       "    </tr>\n",
       "    <tr>\n",
       "      <th>1441428</th>\n",
       "      <td>ainsworth-auriol-1850_2.txt</td>\n",
       "      <td>\"to escape the jaws of\\ndeath just when they a...</td>\n",
       "    </tr>\n",
       "    <tr>\n",
       "      <th>1441429</th>\n",
       "      <td>ainsworth-auriol-1850_2.txt</td>\n",
       "      <td>\"This uncertainty will poison all my happiness,\"</td>\n",
       "    </tr>\n",
       "    <tr>\n",
       "      <th>1441430</th>\n",
       "      <td>ainsworth-auriol-1850_2.txt</td>\n",
       "      <td>\"I shall\\nlive in constant dread, as of an inv...</td>\n",
       "    </tr>\n",
       "    <tr>\n",
       "      <th>1441431</th>\n",
       "      <td>ainsworth-auriol-1850_2.txt</td>\n",
       "      <td>\"What more, indeed!\"</td>\n",
       "    </tr>\n",
       "    <tr>\n",
       "      <th>1441432</th>\n",
       "      <td>ainsworth-auriol-1850_2.txt</td>\n",
       "      <td>\"Ha!\"</td>\n",
       "    </tr>\n",
       "    <tr>\n",
       "      <th>1441433</th>\n",
       "      <td>ainsworth-auriol-1850_2.txt</td>\n",
       "      <td>\"Your caution is vain, doctor,\"</td>\n",
       "    </tr>\n",
       "    <tr>\n",
       "      <th>1441434</th>\n",
       "      <td>ainsworth-auriol-1850_2.txt</td>\n",
       "      <td>\"I have heard what you have\\nuttered. You fanc...</td>\n",
       "    </tr>\n",
       "    <tr>\n",
       "      <th>1441435</th>\n",
       "      <td>ainsworth-auriol-1850_2.txt</td>\n",
       "      <td>\"Fancy I have discovered it!\"</td>\n",
       "    </tr>\n",
       "    <tr>\n",
       "      <th>1441436</th>\n",
       "      <td>ainsworth-auriol-1850_2.txt</td>\n",
       "      <td>\"The matter is past all\\ndoubt. I am the posse...</td>\n",
       "    </tr>\n",
       "    <tr>\n",
       "      <th>1441437</th>\n",
       "      <td>ainsworth-auriol-1850_2.txt</td>\n",
       "      <td>\"The man who brought me hither told me you wer...</td>\n",
       "    </tr>\n",
       "    <tr>\n",
       "      <th>1441438</th>\n",
       "      <td>ainsworth-auriol-1850_2.txt</td>\n",
       "      <td>\"Is it so?\"</td>\n",
       "    </tr>\n",
       "    <tr>\n",
       "      <th>1441439</th>\n",
       "      <td>ainsworth-auriol-1850_2.txt</td>\n",
       "      <td>\"It is,\"</td>\n",
       "    </tr>\n",
       "    <tr>\n",
       "      <th>1441440</th>\n",
       "      <td>ainsworth-auriol-1850_2.txt</td>\n",
       "      <td>\"and you shall now learn the connection\\nthat ...</td>\n",
       "    </tr>\n",
       "    <tr>\n",
       "      <th>1441441</th>\n",
       "      <td>ainsworth-auriol-1850_2.txt</td>\n",
       "      <td>\"that was once my son\\nSimon. His son's head i...</td>\n",
       "    </tr>\n",
       "  </tbody>\n",
       "</table>\n",
       "</div>"
      ],
      "text/plain": [
       "                            Filename  \\\n",
       "1441409  ainsworth-auriol-1850_2.txt   \n",
       "1441410  ainsworth-auriol-1850_2.txt   \n",
       "1441411  ainsworth-auriol-1850_2.txt   \n",
       "1441412  ainsworth-auriol-1850_2.txt   \n",
       "1441413  ainsworth-auriol-1850_2.txt   \n",
       "1441414  ainsworth-auriol-1850_2.txt   \n",
       "1441415  ainsworth-auriol-1850_2.txt   \n",
       "1441416  ainsworth-auriol-1850_2.txt   \n",
       "1441417  ainsworth-auriol-1850_2.txt   \n",
       "1441418  ainsworth-auriol-1850_2.txt   \n",
       "1441419  ainsworth-auriol-1850_2.txt   \n",
       "1441420  ainsworth-auriol-1850_2.txt   \n",
       "1441421  ainsworth-auriol-1850_2.txt   \n",
       "1441422  ainsworth-auriol-1850_2.txt   \n",
       "1441423  ainsworth-auriol-1850_2.txt   \n",
       "1441424  ainsworth-auriol-1850_2.txt   \n",
       "1441425  ainsworth-auriol-1850_2.txt   \n",
       "1441426  ainsworth-auriol-1850_2.txt   \n",
       "1441427  ainsworth-auriol-1850_2.txt   \n",
       "1441428  ainsworth-auriol-1850_2.txt   \n",
       "1441429  ainsworth-auriol-1850_2.txt   \n",
       "1441430  ainsworth-auriol-1850_2.txt   \n",
       "1441431  ainsworth-auriol-1850_2.txt   \n",
       "1441432  ainsworth-auriol-1850_2.txt   \n",
       "1441433  ainsworth-auriol-1850_2.txt   \n",
       "1441434  ainsworth-auriol-1850_2.txt   \n",
       "1441435  ainsworth-auriol-1850_2.txt   \n",
       "1441436  ainsworth-auriol-1850_2.txt   \n",
       "1441437  ainsworth-auriol-1850_2.txt   \n",
       "1441438  ainsworth-auriol-1850_2.txt   \n",
       "1441439  ainsworth-auriol-1850_2.txt   \n",
       "1441440  ainsworth-auriol-1850_2.txt   \n",
       "1441441  ainsworth-auriol-1850_2.txt   \n",
       "\n",
       "                                                  Sentence  \n",
       "1441409  's figure was slight, but admirably proportion...  \n",
       "1441410                        \"What have you done to me?\"  \n",
       "1441411  \"the\\ntorture of my wound has suddenly ceased,...  \n",
       "1441412  \"You are cared for by one who has greater skil...  \n",
       "1441413  \"If I can manage to transport you to his\\nlodg...  \n",
       "1441414                              \"Do not delay, then,\"  \n",
       "1441415  \"for though I am free from\\npain, I feel that ...  \n",
       "1441416  \"Press this handkerchief to your side, and lea...  \n",
       "1441417  \"Doctor Lamb's dwelling is but a step from the...  \n",
       "1441418             \"It is the first I ever heard of him,\"  \n",
       "1441419  \"but take\\nme to him quickly, or it will be to...  \n",
       "1441420  's door. Baldred tapped against\\nit, and the s...  \n",
       "1441421  's injunctions,\\nturned to inquire what he sho...  \n",
       "1441422                                    \"the Malachim,\"  \n",
       "1441423                       \"the\\nPassing of the River.\"  \n",
       "1441424                              ' sabbath.\\n\\nAuriol'  \n",
       "1441425                                       \"At length,\"  \n",
       "1441426  \"at length, the great work is achieved.\\nWith ...  \n",
       "1441427                                \"To live for ever!\"  \n",
       "1441428  \"to escape the jaws of\\ndeath just when they a...  \n",
       "1441429   \"This uncertainty will poison all my happiness,\"  \n",
       "1441430  \"I shall\\nlive in constant dread, as of an inv...  \n",
       "1441431                               \"What more, indeed!\"  \n",
       "1441432                                              \"Ha!\"  \n",
       "1441433                    \"Your caution is vain, doctor,\"  \n",
       "1441434  \"I have heard what you have\\nuttered. You fanc...  \n",
       "1441435                      \"Fancy I have discovered it!\"  \n",
       "1441436  \"The matter is past all\\ndoubt. I am the posse...  \n",
       "1441437  \"The man who brought me hither told me you wer...  \n",
       "1441438                                        \"Is it so?\"  \n",
       "1441439                                           \"It is,\"  \n",
       "1441440  \"and you shall now learn the connection\\nthat ...  \n",
       "1441441  \"that was once my son\\nSimon. His son's head i...  "
      ]
     },
     "execution_count": 4,
     "metadata": {},
     "output_type": "execute_result"
    }
   ],
   "source": [
    "df_eg=df[df['Filename']=='ainsworth-auriol-1850_2.txt']\n",
    "df_eg\n",
    "#this looks OK for this file"
   ]
  },
  {
   "cell_type": "code",
   "execution_count": 5,
   "metadata": {},
   "outputs": [],
   "source": [
    "df6=df5.sort_values(by='Filename')\n"
   ]
  },
  {
   "cell_type": "code",
   "execution_count": 6,
   "metadata": {},
   "outputs": [
    {
     "data": {
      "text/html": [
       "<div>\n",
       "<style scoped>\n",
       "    .dataframe tbody tr th:only-of-type {\n",
       "        vertical-align: middle;\n",
       "    }\n",
       "\n",
       "    .dataframe tbody tr th {\n",
       "        vertical-align: top;\n",
       "    }\n",
       "\n",
       "    .dataframe thead th {\n",
       "        text-align: right;\n",
       "    }\n",
       "</style>\n",
       "<table border=\"1\" class=\"dataframe\">\n",
       "  <thead>\n",
       "    <tr style=\"text-align: right;\">\n",
       "      <th></th>\n",
       "      <th>Filename</th>\n",
       "      <th>Sentence</th>\n",
       "    </tr>\n",
       "  </thead>\n",
       "  <tbody>\n",
       "    <tr>\n",
       "      <th>234269</th>\n",
       "      <td>ainsworth-auriol-1850_1.txt</td>\n",
       "      <td>\"They were father and son,\"</td>\n",
       "    </tr>\n",
       "    <tr>\n",
       "      <th>234252</th>\n",
       "      <td>ainsworth-auriol-1850_1.txt</td>\n",
       "      <td>\"THE TOWER OF LONDON\"</td>\n",
       "    </tr>\n",
       "    <tr>\n",
       "      <th>234253</th>\n",
       "      <td>ainsworth-auriol-1850_1.txt</td>\n",
       "      <td>'S COPYRIGHT EDITION_\\n\\n    LONDON\\n    GEORG...</td>\n",
       "    </tr>\n",
       "    <tr>\n",
       "      <th>234254</th>\n",
       "      <td>ainsworth-auriol-1850_1.txt</td>\n",
       "      <td>'S ADVENTURE IN ROME--\\n\\nI. SANTA MARIA MAGGI...</td>\n",
       "    </tr>\n",
       "    <tr>\n",
       "      <th>234255</th>\n",
       "      <td>ainsworth-auriol-1850_1.txt</td>\n",
       "      <td>'S DEVICE TO PERPLEX AURIOL\\n\\n\\n\\n\\nPROLOGUE\\...</td>\n",
       "    </tr>\n",
       "  </tbody>\n",
       "</table>\n",
       "</div>"
      ],
      "text/plain": [
       "                           Filename  \\\n",
       "234269  ainsworth-auriol-1850_1.txt   \n",
       "234252  ainsworth-auriol-1850_1.txt   \n",
       "234253  ainsworth-auriol-1850_1.txt   \n",
       "234254  ainsworth-auriol-1850_1.txt   \n",
       "234255  ainsworth-auriol-1850_1.txt   \n",
       "\n",
       "                                                 Sentence  \n",
       "234269                        \"They were father and son,\"  \n",
       "234252                              \"THE TOWER OF LONDON\"  \n",
       "234253  'S COPYRIGHT EDITION_\\n\\n    LONDON\\n    GEORG...  \n",
       "234254  'S ADVENTURE IN ROME--\\n\\nI. SANTA MARIA MAGGI...  \n",
       "234255  'S DEVICE TO PERPLEX AURIOL\\n\\n\\n\\n\\nPROLOGUE\\...  "
      ]
     },
     "execution_count": 6,
     "metadata": {},
     "output_type": "execute_result"
    }
   ],
   "source": [
    "df6.head()"
   ]
  },
  {
   "cell_type": "code",
   "execution_count": 7,
   "metadata": {},
   "outputs": [],
   "source": [
    "df6.to_csv(\"sorted_dialogues.csv\", encoding='utf-8', index=False)\n"
   ]
  },
  {
   "cell_type": "code",
   "execution_count": 8,
   "metadata": {},
   "outputs": [
    {
     "data": {
      "text/html": [
       "<div>\n",
       "<style scoped>\n",
       "    .dataframe tbody tr th:only-of-type {\n",
       "        vertical-align: middle;\n",
       "    }\n",
       "\n",
       "    .dataframe tbody tr th {\n",
       "        vertical-align: top;\n",
       "    }\n",
       "\n",
       "    .dataframe thead th {\n",
       "        text-align: right;\n",
       "    }\n",
       "</style>\n",
       "<table border=\"1\" class=\"dataframe\">\n",
       "  <thead>\n",
       "    <tr style=\"text-align: right;\">\n",
       "      <th></th>\n",
       "      <th>Filename</th>\n",
       "      <th>Sentence</th>\n",
       "    </tr>\n",
       "  </thead>\n",
       "  <tbody>\n",
       "    <tr>\n",
       "      <th>0</th>\n",
       "      <td>ainsworth-auriol-1850_1.txt</td>\n",
       "      <td>\"They were father and son,\"</td>\n",
       "    </tr>\n",
       "    <tr>\n",
       "      <th>1</th>\n",
       "      <td>ainsworth-auriol-1850_1.txt</td>\n",
       "      <td>\"THE TOWER OF LONDON\"</td>\n",
       "    </tr>\n",
       "    <tr>\n",
       "      <th>2</th>\n",
       "      <td>ainsworth-auriol-1850_1.txt</td>\n",
       "      <td>'S COPYRIGHT EDITION_\\n\\n    LONDON\\n    GEORG...</td>\n",
       "    </tr>\n",
       "    <tr>\n",
       "      <th>3</th>\n",
       "      <td>ainsworth-auriol-1850_1.txt</td>\n",
       "      <td>'S ADVENTURE IN ROME--\\n\\nI. SANTA MARIA MAGGI...</td>\n",
       "    </tr>\n",
       "    <tr>\n",
       "      <th>4</th>\n",
       "      <td>ainsworth-auriol-1850_1.txt</td>\n",
       "      <td>'S DEVICE TO PERPLEX AURIOL\\n\\n\\n\\n\\nPROLOGUE\\...</td>\n",
       "    </tr>\n",
       "  </tbody>\n",
       "</table>\n",
       "</div>"
      ],
      "text/plain": [
       "                      Filename  \\\n",
       "0  ainsworth-auriol-1850_1.txt   \n",
       "1  ainsworth-auriol-1850_1.txt   \n",
       "2  ainsworth-auriol-1850_1.txt   \n",
       "3  ainsworth-auriol-1850_1.txt   \n",
       "4  ainsworth-auriol-1850_1.txt   \n",
       "\n",
       "                                            Sentence  \n",
       "0                        \"They were father and son,\"  \n",
       "1                              \"THE TOWER OF LONDON\"  \n",
       "2  'S COPYRIGHT EDITION_\\n\\n    LONDON\\n    GEORG...  \n",
       "3  'S ADVENTURE IN ROME--\\n\\nI. SANTA MARIA MAGGI...  \n",
       "4  'S DEVICE TO PERPLEX AURIOL\\n\\n\\n\\n\\nPROLOGUE\\...  "
      ]
     },
     "execution_count": 8,
     "metadata": {},
     "output_type": "execute_result"
    }
   ],
   "source": [
    "df7=pd.read_csv(\"sorted_dialogues.csv\")\n",
    "df7.head()\n",
    "\n"
   ]
  },
  {
   "cell_type": "code",
   "execution_count": null,
   "metadata": {},
   "outputs": [],
   "source": [
    "#we must check the accuracy of cutting off dialogues. james-eagle-1854_25.txt looks tricky\n",
    "#There is no way to reach 100% accuracy, though"
   ]
  }
 ],
 "metadata": {
  "colab": {
   "provenance": []
  },
  "kernelspec": {
   "display_name": "Python 3 (ipykernel)",
   "language": "python",
   "name": "python3"
  },
  "language_info": {
   "codemirror_mode": {
    "name": "ipython",
    "version": 3
   },
   "file_extension": ".py",
   "mimetype": "text/x-python",
   "name": "python",
   "nbconvert_exporter": "python",
   "pygments_lexer": "ipython3",
   "version": "3.9.7"
  }
 },
 "nbformat": 4,
 "nbformat_minor": 4
}

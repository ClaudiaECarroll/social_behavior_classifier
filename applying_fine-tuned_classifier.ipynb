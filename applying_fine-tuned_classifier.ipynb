{
 "cells": [
  {
   "cell_type": "markdown",
   "id": "356e55b1",
   "metadata": {},
   "source": [
    "## Imports ##"
   ]
  },
  {
   "cell_type": "code",
   "execution_count": 1,
   "id": "2783bae8-2e7f-4ef8-a373-4a577c51a992",
   "metadata": {},
   "outputs": [],
   "source": [
    "import pandas as pd\n",
    "from transformers import BertTokenizer, BertModel\n",
    "import torch\n",
    "from torch import nn"
   ]
  },
  {
   "cell_type": "markdown",
   "id": "3fb74131",
   "metadata": {},
   "source": [
    "## Creating list of texts for classification ##"
   ]
  },
  {
   "cell_type": "code",
   "execution_count": 2,
   "id": "4467f48c-15f5-4386-a40f-acea704116e0",
   "metadata": {},
   "outputs": [],
   "source": [
    "df = pd.read_excel(\"austen_test_data.xlsx\")"
   ]
  },
  {
   "cell_type": "code",
   "execution_count": 3,
   "id": "29dc3e33-2120-4077-8c19-506da0c535f9",
   "metadata": {},
   "outputs": [
    {
     "data": {
      "text/html": [
       "<div>\n",
       "<style scoped>\n",
       "    .dataframe tbody tr th:only-of-type {\n",
       "        vertical-align: middle;\n",
       "    }\n",
       "\n",
       "    .dataframe tbody tr th {\n",
       "        vertical-align: top;\n",
       "    }\n",
       "\n",
       "    .dataframe thead th {\n",
       "        text-align: right;\n",
       "    }\n",
       "</style>\n",
       "<table border=\"1\" class=\"dataframe\">\n",
       "  <thead>\n",
       "    <tr style=\"text-align: right;\">\n",
       "      <th></th>\n",
       "      <th>text</th>\n",
       "      <th>human_label</th>\n",
       "    </tr>\n",
       "  </thead>\n",
       "  <tbody>\n",
       "    <tr>\n",
       "      <th>0</th>\n",
       "      <td>Marianne was afraid of offending, and said no ...</td>\n",
       "      <td>mental</td>\n",
       "    </tr>\n",
       "    <tr>\n",
       "      <th>1</th>\n",
       "      <td>She would not wound the feelings of her sister...</td>\n",
       "      <td>mental</td>\n",
       "    </tr>\n",
       "    <tr>\n",
       "      <th>2</th>\n",
       "      <td>Marianne was rejoiced to find her sister so ea...</td>\n",
       "      <td>mental</td>\n",
       "    </tr>\n",
       "    <tr>\n",
       "      <th>3</th>\n",
       "      <td>She felt that Edward stood very high in her o...</td>\n",
       "      <td>mental</td>\n",
       "    </tr>\n",
       "    <tr>\n",
       "      <th>4</th>\n",
       "      <td>She believed the regard to be mutual; but she ...</td>\n",
       "      <td>mental</td>\n",
       "    </tr>\n",
       "  </tbody>\n",
       "</table>\n",
       "</div>"
      ],
      "text/plain": [
       "                                                text human_label\n",
       "0  Marianne was afraid of offending, and said no ...      mental\n",
       "1  She would not wound the feelings of her sister...      mental\n",
       "2  Marianne was rejoiced to find her sister so ea...      mental\n",
       "3   She felt that Edward stood very high in her o...      mental\n",
       "4  She believed the regard to be mutual; but she ...      mental"
      ]
     },
     "execution_count": 3,
     "metadata": {},
     "output_type": "execute_result"
    }
   ],
   "source": [
    "df.head()"
   ]
  },
  {
   "cell_type": "code",
   "execution_count": 4,
   "id": "589b8cfc-6b42-4042-a2a3-b34f07cdc389",
   "metadata": {},
   "outputs": [],
   "source": [
    "texts = df['text'].tolist()"
   ]
  },
  {
   "cell_type": "code",
   "execution_count": 5,
   "id": "b6c8d179-eaa5-4799-af83-503613a823fb",
   "metadata": {},
   "outputs": [
    {
     "name": "stdout",
     "output_type": "stream",
     "text": [
      "['Marianne was afraid of offending, and said no more on the subject; but the kind of approbation which Elinor described as excited in him by the drawings of other people, was very far from that rapturous delight,\\nwhich, in her opinion, could alone be called taste.', 'She would not wound the feelings of her sister on any account, and yet to say what she did not believe was impossible. ', 'Marianne was rejoiced to find her sister so easily pleased.', ' She felt that Edward stood very high in her opinion. ', 'She believed the regard to be mutual; but she required greater certainty of it to make Marianne’s conviction of their attachment agreeable to her.', 'Marianne was astonished to find how much the imagination of her mother and herself had outstripped the truth.', 'She could not consider her partiality for Edward in so prosperous a state as Marianne had believed it. ', 'Elinor had always thought it would be more prudent for them to settle at some distance from Norland, than immediately amongst their present acquaintance.', 'Mr. John Dashwood told his mother again and again how exceedingly sorry he was that she had taken a house at such a distance from Norland as to prevent his being of any service to her in removing her furniture. ', 'Mrs. Dashwood took the house for a twelvemonth', 'Many were the tears shed by them in their last adieus to a place so much beloved.', 'Marianne’s pianoforte was unpacked and properly disposed of; and Elinor’s drawings were affixed to the walls of their sitting room.', 'Lady Middleton had sent a very civil message by him, denoting her intention of waiting on Mrs. Dashwood as soon as she could be assured that her visit would be no inconvenience; and as this message was answered by an invitation equally polite, her ladyship was introduced to them the next day.', 'Mrs. Dashwood and her daughters were met at the door of the house by Sir John, who welcomed them to Barton Park with unaffected sincerity; and as he attended them to the drawing room repeated to the young ladies the concern which the same subject had drawn from him the day before, at being unable to get any smart young men to meet them.', 'She was full of jokes and laughter, and before dinner was over had said many witty things on the subject of lovers and husbands', 'He was silent and grave.', 'In the evening, as Marianne was discovered to be musical, she was invited to play. ', 'Marianne’s performance was highly applauded.', ' Sir John was loud in his admiration at the end of every song, and as loud in his conversation\\nwith the others while every song lasted.', 'Lady Middleton frequently called him to order, wondered how any one’s attention could be diverted from music for a moment, and asked Marianne to sing a particular song which Marianne had just finished.', 'The details were few and startling.', 'But the room was gay with firelight.', 'It was by this time about nine in the morning, and the first fog of the season.']\n"
     ]
    }
   ],
   "source": [
    "print(texts)"
   ]
  },
  {
   "cell_type": "markdown",
   "id": "ed75df67",
   "metadata": {},
   "source": [
    "## Loading up the classifier based on previously saved .pth file ##"
   ]
  },
  {
   "cell_type": "code",
   "execution_count": 13,
   "id": "63bf0103-8735-4a01-9c13-2280d07daa6b",
   "metadata": {},
   "outputs": [],
   "source": [
    "#Creating a class for the classifier\n",
    "\n",
    "class BERTClassifier(nn.Module):\n",
    "    def __init__(self, bert_model_name, num_classes):\n",
    "        super(BERTClassifier, self).__init__()\n",
    "        self.bert = BertModel.from_pretrained(bert_model_name)\n",
    "        self.dropout = nn.Dropout(0.1)\n",
    "        self.fc = nn.Linear(self.bert.config.hidden_size, num_classes)\n",
    "\n",
    "    def forward(self, input_ids, attention_mask):\n",
    "        outputs = self.bert(input_ids=input_ids, attention_mask=attention_mask)\n",
    "        pooled_output = outputs.pooler_output\n",
    "        x = self.dropout(pooled_output)\n",
    "        logits = self.fc(x)\n",
    "        return logits"
   ]
  },
  {
   "cell_type": "code",
   "execution_count": 15,
   "id": "07f11a57",
   "metadata": {},
   "outputs": [],
   "source": [
    "#Setting variables (these need to match the existing fine-tuned classifier file--see classifier).\n",
    "\n",
    "bert_model_name = 'bert-base-uncased'\n",
    "num_classes = 2 \n",
    "tokenizer = BertTokenizer.from_pretrained(bert_model_name)\n",
    "\n",
    "#This ensures the classifier computation will be performed on a GPU if there is a CUDA-enabled one available. \n",
    "device = torch.device('cuda' if torch.cuda.is_available() else 'cpu')\n"
   ]
  },
  {
   "cell_type": "code",
   "execution_count": 16,
   "id": "f7f33588",
   "metadata": {},
   "outputs": [
    {
     "data": {
      "text/plain": [
       "BERTClassifier(\n",
       "  (bert): BertModel(\n",
       "    (embeddings): BertEmbeddings(\n",
       "      (word_embeddings): Embedding(30522, 768, padding_idx=0)\n",
       "      (position_embeddings): Embedding(512, 768)\n",
       "      (token_type_embeddings): Embedding(2, 768)\n",
       "      (LayerNorm): LayerNorm((768,), eps=1e-12, elementwise_affine=True)\n",
       "      (dropout): Dropout(p=0.1, inplace=False)\n",
       "    )\n",
       "    (encoder): BertEncoder(\n",
       "      (layer): ModuleList(\n",
       "        (0-11): 12 x BertLayer(\n",
       "          (attention): BertAttention(\n",
       "            (self): BertSelfAttention(\n",
       "              (query): Linear(in_features=768, out_features=768, bias=True)\n",
       "              (key): Linear(in_features=768, out_features=768, bias=True)\n",
       "              (value): Linear(in_features=768, out_features=768, bias=True)\n",
       "              (dropout): Dropout(p=0.1, inplace=False)\n",
       "            )\n",
       "            (output): BertSelfOutput(\n",
       "              (dense): Linear(in_features=768, out_features=768, bias=True)\n",
       "              (LayerNorm): LayerNorm((768,), eps=1e-12, elementwise_affine=True)\n",
       "              (dropout): Dropout(p=0.1, inplace=False)\n",
       "            )\n",
       "          )\n",
       "          (intermediate): BertIntermediate(\n",
       "            (dense): Linear(in_features=768, out_features=3072, bias=True)\n",
       "            (intermediate_act_fn): GELUActivation()\n",
       "          )\n",
       "          (output): BertOutput(\n",
       "            (dense): Linear(in_features=3072, out_features=768, bias=True)\n",
       "            (LayerNorm): LayerNorm((768,), eps=1e-12, elementwise_affine=True)\n",
       "            (dropout): Dropout(p=0.1, inplace=False)\n",
       "          )\n",
       "        )\n",
       "      )\n",
       "    )\n",
       "    (pooler): BertPooler(\n",
       "      (dense): Linear(in_features=768, out_features=768, bias=True)\n",
       "      (activation): Tanh()\n",
       "    )\n",
       "  )\n",
       "  (dropout): Dropout(p=0.1, inplace=False)\n",
       "  (fc): Linear(in_features=768, out_features=2, bias=True)\n",
       ")"
      ]
     },
     "execution_count": 16,
     "metadata": {},
     "output_type": "execute_result"
    }
   ],
   "source": [
    "# Load the base bert model as previously defined\n",
    "\n",
    "model = BERTClassifier(bert_model_name, num_classes)\n",
    "\n",
    "#Update the base bert model with weights from previous fine-tuning, saved in .pth file\n",
    "\n",
    "model.load_state_dict(torch.load(\"description_classifier/bert_classifier_1.pth\"))\n",
    "\n",
    "#'Moves' model to device. This is only necessary when utilizing GPUs on your machine. If this line is not included,\n",
    "#the code will use the CPU by default.\n",
    "\n",
    "model.to(device)"
   ]
  },
  {
   "cell_type": "markdown",
   "id": "29bf5b96",
   "metadata": {},
   "source": [
    "## Actually applying the classifier ##"
   ]
  },
  {
   "cell_type": "code",
   "execution_count": 17,
   "id": "74e0b8b3-0f52-4bf3-9b31-e695876c5a31",
   "metadata": {},
   "outputs": [],
   "source": [
    "#Define a function for applying the classifier.\n",
    "\n",
    "def predict_description(text, model, tokenizer, device, max_length=256):\n",
    "    model.eval()\n",
    "    encoding = tokenizer(text, return_tensors='pt', max_length=max_length, padding='max_length', truncation=True)\n",
    "    input_ids = encoding['input_ids'].to(device)\n",
    "    attention_mask = encoding['attention_mask'].to(device)\n",
    "\n",
    "    with torch.no_grad():\n",
    "        outputs = model(input_ids=input_ids, attention_mask=attention_mask)\n",
    "        _, preds = torch.max(outputs, dim=1)\n",
    "    return \"behaviour\" if preds.item() == 1 else \"mental\""
   ]
  },
  {
   "cell_type": "code",
   "execution_count": 18,
   "id": "fc090a88-e3b7-4f5f-819c-593dadbfcfbd",
   "metadata": {},
   "outputs": [
    {
     "data": {
      "text/plain": [
       "'mental'"
      ]
     },
     "execution_count": 18,
     "metadata": {},
     "output_type": "execute_result"
    }
   ],
   "source": [
    "predict_description(texts[0], model, tokenizer, device, max_length=256)"
   ]
  },
  {
   "cell_type": "code",
   "execution_count": 26,
   "id": "4d534a10-65fa-4b6a-b54a-55e4a6103e6d",
   "metadata": {},
   "outputs": [],
   "source": [
    "results = []\n",
    "for sentence in texts:\n",
    "    classification = predict_description(sentence, model, tokenizer, device)\n",
    "    results.append([sentence, classification])\n",
    "    \n",
    "df_results = pd.DataFrame(results, columns=['Sentence', 'BERT_label'])\n",
    "    "
   ]
  },
  {
   "cell_type": "code",
   "execution_count": 27,
   "id": "7680bdb2-6787-491b-b67a-61c20b2f407a",
   "metadata": {},
   "outputs": [
    {
     "data": {
      "text/html": [
       "<div>\n",
       "<style scoped>\n",
       "    .dataframe tbody tr th:only-of-type {\n",
       "        vertical-align: middle;\n",
       "    }\n",
       "\n",
       "    .dataframe tbody tr th {\n",
       "        vertical-align: top;\n",
       "    }\n",
       "\n",
       "    .dataframe thead th {\n",
       "        text-align: right;\n",
       "    }\n",
       "</style>\n",
       "<table border=\"1\" class=\"dataframe\">\n",
       "  <thead>\n",
       "    <tr style=\"text-align: right;\">\n",
       "      <th></th>\n",
       "      <th>Sentence</th>\n",
       "      <th>BERT_label</th>\n",
       "    </tr>\n",
       "  </thead>\n",
       "  <tbody>\n",
       "    <tr>\n",
       "      <th>0</th>\n",
       "      <td>Marianne was afraid of offending, and said no ...</td>\n",
       "      <td>mental</td>\n",
       "    </tr>\n",
       "    <tr>\n",
       "      <th>1</th>\n",
       "      <td>She would not wound the feelings of her sister...</td>\n",
       "      <td>mental</td>\n",
       "    </tr>\n",
       "    <tr>\n",
       "      <th>2</th>\n",
       "      <td>Marianne was rejoiced to find her sister so ea...</td>\n",
       "      <td>mental</td>\n",
       "    </tr>\n",
       "    <tr>\n",
       "      <th>3</th>\n",
       "      <td>She felt that Edward stood very high in her o...</td>\n",
       "      <td>mental</td>\n",
       "    </tr>\n",
       "    <tr>\n",
       "      <th>4</th>\n",
       "      <td>She believed the regard to be mutual; but she ...</td>\n",
       "      <td>mental</td>\n",
       "    </tr>\n",
       "  </tbody>\n",
       "</table>\n",
       "</div>"
      ],
      "text/plain": [
       "                                            Sentence BERT_label\n",
       "0  Marianne was afraid of offending, and said no ...     mental\n",
       "1  She would not wound the feelings of her sister...     mental\n",
       "2  Marianne was rejoiced to find her sister so ea...     mental\n",
       "3   She felt that Edward stood very high in her o...     mental\n",
       "4  She believed the regard to be mutual; but she ...     mental"
      ]
     },
     "execution_count": 27,
     "metadata": {},
     "output_type": "execute_result"
    }
   ],
   "source": [
    "df_results.head()"
   ]
  },
  {
   "cell_type": "code",
   "execution_count": null,
   "id": "c4348f19-5917-4c4b-a108-406ca938a119",
   "metadata": {},
   "outputs": [],
   "source": []
  },
  {
   "cell_type": "code",
   "execution_count": null,
   "id": "20f367c1-d97f-425c-81f1-92c3d766146f",
   "metadata": {},
   "outputs": [],
   "source": []
  }
 ],
 "metadata": {
  "kernelspec": {
   "display_name": "Python 3 (ipykernel)",
   "language": "python",
   "name": "python3"
  },
  "language_info": {
   "codemirror_mode": {
    "name": "ipython",
    "version": 3
   },
   "file_extension": ".py",
   "mimetype": "text/x-python",
   "name": "python",
   "nbconvert_exporter": "python",
   "pygments_lexer": "ipython3",
   "version": "3.11.5"
  }
 },
 "nbformat": 4,
 "nbformat_minor": 5
}
